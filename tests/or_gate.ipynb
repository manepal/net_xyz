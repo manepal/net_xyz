{
 "cells": [
  {
   "cell_type": "code",
   "execution_count": 1,
   "metadata": {},
   "outputs": [],
   "source": [
    "import sys\n",
    "sys.path.append(\"..\")"
   ]
  },
  {
   "cell_type": "code",
   "execution_count": 2,
   "metadata": {},
   "outputs": [],
   "source": [
    "import network as net\n",
    "import numpy as np\n",
    "import matplotlib.pyplot as plt\n",
    "%matplotlib inline"
   ]
  },
  {
   "cell_type": "code",
   "execution_count": 11,
   "metadata": {},
   "outputs": [],
   "source": [
    "# initialize hyper parameters\n",
    "\n",
    "# our network will have 2 input neurons for input features or two inputs of a logic gate\n",
    "# output layer will contain only one neuron to emulate logic gate's output\n",
    "layer_dims = [2, 3, 1]\n",
    "\n",
    "# length of activaiton_funcs should be [len(layer_dims) - 1] because the first layer is input layer and does not require computations\n",
    "activation_funcs = [\"sigmoid\", \"sigmoid\"]\n",
    "num_iterations = 20000\n",
    "learning_rate = 0.075"
   ]
  },
  {
   "cell_type": "code",
   "execution_count": 12,
   "metadata": {},
   "outputs": [],
   "source": [
    "# initialize training data for or gate\n",
    "X_train_orig = np.array([[0, 0],\n",
    "                         [0, 1],\n",
    "                         [1, 0],\n",
    "                         [1, 1]])\n",
    "# currently the shape of our training data is [4 x 2] i.e [m x n] so, we need to transpose it to make [n x m]\n",
    "X_train = X_train_orig.T\n",
    "\n",
    "Y_train_or_orig = np.array([[0],\n",
    "                            [1],\n",
    "                            [1],\n",
    "                            [1]])\n",
    "# transpose Y_train_or_orig to get [1 x m] shape\n",
    "Y_train_or = Y_train_or_orig.T"
   ]
  },
  {
   "cell_type": "code",
   "execution_count": 13,
   "metadata": {},
   "outputs": [
    {
     "name": "stdout",
     "output_type": "stream",
     "text": [
      "Final cost: 0.002303207283165556\n",
      "Cost at iteration 0: 0.6909637347104847\n"
     ]
    },
    {
     "data": {
      "text/plain": [
       "[<matplotlib.lines.Line2D at 0x1b9fa2fc518>]"
      ]
     },
     "execution_count": 13,
     "metadata": {},
     "output_type": "execute_result"
    },
    {
     "data": {
      "image/png": "[encoded data removed]",
      "text/plain": [
       "<matplotlib.figure.Figure at 0x1b9fa1fabe0>"
      ]
     },
     "metadata": {},
     "output_type": "display_data"
    }
   ],
   "source": [
    "# instantiate the neural network object\n",
    "dnn = net.DeepNeuralNetwork(layer_dims, activation_funcs, num_iterations, learning_rate)\n",
    "\n",
    "# train the network\n",
    "final_cost, costs = dnn.train_network(X_train, Y_train_or, cost_interval=100)\n",
    "print(\"Final cost: \" + str(final_cost))\n",
    "print(\"Cost at iteration 0: \" + str(costs[0]))\n",
    "#print(\"costs: \" + str(costs))\n",
    "\n",
    "plt.plot(costs)"
   ]
  },
  {
   "cell_type": "code",
   "execution_count": 24,
   "metadata": {},
   "outputs": [
    {
     "name": "stdout",
     "output_type": "stream",
     "text": [
      "result: True\n",
      "actual output: 0.99848414695465\n"
     ]
    }
   ],
   "source": [
    "# prediction time\n",
    "X = np.array([[0],\n",
    "              [1]])\n",
    "result = np.squeeze(dnn.predict(X))\n",
    "print(\"result: \" + str(result >= 0.5) + \"\\nactual output: \" + str(result))"
   ]
  },
  {
   "cell_type": "code",
   "execution_count": null,
   "metadata": {},
   "outputs": [],
   "source": []
  }
 ],
 "metadata": {
  "kernelspec": {
   "display_name": "Python 3",
   "language": "python",
   "name": "python3"
  },
  "language_info": {
   "codemirror_mode": {
    "name": "ipython",
    "version": 3
   },
   "file_extension": ".py",
   "mimetype": "text/x-python",
   "name": "python",
   "nbconvert_exporter": "python",
   "pygments_lexer": "ipython3",
   "version": "3.6.1"
  }
 },
 "nbformat": 4,
 "nbformat_minor": 2
}
